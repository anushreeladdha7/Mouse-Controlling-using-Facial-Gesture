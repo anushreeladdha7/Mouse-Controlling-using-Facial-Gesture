{
 "cells": [
  {
   "cell_type": "code",
   "execution_count": 1,
   "metadata": {},
   "outputs": [],
   "source": [
    "def movDirection(nose_point, prev_nose_point, xErrorMargin = 4, yErrorMargin = 4):\n",
    "    nx,ny = nose_point\n",
    "    px,py = prev_nose_point\n",
    "    \n",
    "    horizontalMovement = -1   #Value 1 for Right and value 0 for Left\n",
    "    verticalMovement = -1     #Value 1 for Down and value 0 for Up\n",
    "    offset = (0,0)\n",
    "    \n",
    "    if nx > px + xErrorMargin:\n",
    "        horizontalMovement = 1\n",
    "    elif nx < px - xErrorMargin: \n",
    "        horizontalMovement = 0\n",
    "        \n",
    "    if ny > py + yErrorMargin:\n",
    "        verticalMovement = 1\n",
    "    elif ny < py - yErrorMargin:\n",
    "        verticalMovement = 0\n",
    "        \n",
    "    if horizontalMovement == 1 and verticalMovement == 1:\n",
    "        offset = (nx-px-xErrorMargin, ny-py-yErrorMargin)\n",
    "        return 'Left-Down', offset\n",
    "    \n",
    "    elif horizontalMovement == 1 and verticalMovement == 0:\n",
    "        offset = (nx-px-xErrorMargin, ny-py+yErrorMargin)\n",
    "        return 'Left-Up', offset\n",
    "    \n",
    "    elif horizontalMovement == 0 and verticalMovement == 1:\n",
    "        offset = (nx-px+xErrorMargin, ny-py-yErrorMargin)\n",
    "        return 'Right-Down', offset\n",
    "    \n",
    "    elif horizontalMovement == 0 and verticalMovement == 0:\n",
    "        offset = (nx-px+xErrorMargin, ny-py+yErrorMargin)\n",
    "        return 'Right-Down', offset\n",
    "    \n",
    "    elif horizontalMovement == -1 and verticalMovement == 1:\n",
    "        offset = (0, ny-py-yErrorMargin)\n",
    "        return 'Down', offset\n",
    "    \n",
    "    elif horizontalMovement == -1 and verticalMovement == 0:\n",
    "        offset = (0, ny-py+yErrorMargin)\n",
    "        return 'Up', offset\n",
    "    \n",
    "    elif horizontalMovement == 1 and verticalMovement == -1:\n",
    "        offset = (nx-px-xErrorMargin, 0)\n",
    "        return 'Left', offset\n",
    "    \n",
    "    elif horizontalMovement == 0 and verticalMovement == -1:\n",
    "        offset = (nx-px+xErrorMargin, 0)\n",
    "        return 'Right', offset\n",
    "    \n",
    "    else:\n",
    "        return '-', offset"
   ]
  },
  {
   "cell_type": "code",
   "execution_count": 2,
   "metadata": {},
   "outputs": [],
   "source": [
    "import numpy as np"
   ]
  },
  {
   "cell_type": "code",
   "execution_count": 3,
   "metadata": {},
   "outputs": [],
   "source": [
    "\n",
    "def eye_aspect_ratio(eye):\n",
    "    # Compute the euclidean distances between the two sets of\n",
    "    # vertical eye landmarks (x, y)-coordinates\n",
    "    A = np.linalg.norm(eye[1] - eye[5])\n",
    "    B = np.linalg.norm(eye[2] - eye[4])\n",
    "\n",
    "    # Compute the euclidean distance between the horizontal\n",
    "    # eye landmark (x, y)-coordinates\n",
    "    C = np.linalg.norm(eye[0] - eye[3])\n",
    "\n",
    "    # Compute the eye aspect ratio\n",
    "    ear = (A + B) / (2.0 * C)\n",
    "\n",
    "    # Return the eye aspect ratio\n",
    "    return ear"
   ]
  },
  {
   "cell_type": "code",
   "execution_count": 4,
   "metadata": {},
   "outputs": [],
   "source": [
    "def mouth_aspect_ratio(mouth):\n",
    "    # Compute the euclidean distances between the three sets\n",
    "    # of vertical mouth landmarks (x, y)-coordinates\n",
    "    A = np.linalg.norm(mouth[13] - mouth[19])\n",
    "    B = np.linalg.norm(mouth[14] - mouth[18])\n",
    "    C = np.linalg.norm(mouth[15] - mouth[17])\n",
    "\n",
    "    # Compute the euclidean distance between the horizontal\n",
    "    # mouth landmarks (x, y)-coordinates\n",
    "    D = np.linalg.norm(mouth[12] - mouth[16])\n",
    "\n",
    "    # Compute the mouth aspect ratio\n",
    "    mar = (A + B + C) / (2 * D)\n",
    "    \n",
    "    # Return the mouth aspect ratio\n",
    "    return mar"
   ]
  },
  {
   "cell_type": "code",
   "execution_count": null,
   "metadata": {},
   "outputs": [],
   "source": [
    "\n",
    "    "
   ]
  }
 ],
 "metadata": {
  "kernelspec": {
   "display_name": "Python 3",
   "language": "python",
   "name": "python3"
  },
  "language_info": {
   "codemirror_mode": {
    "name": "ipython",
    "version": 3
   },
   "file_extension": ".py",
   "mimetype": "text/x-python",
   "name": "python",
   "nbconvert_exporter": "python",
   "pygments_lexer": "ipython3",
   "version": "3.7.4"
  }
 },
 "nbformat": 4,
 "nbformat_minor": 2
}
